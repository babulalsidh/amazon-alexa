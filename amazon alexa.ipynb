{
 "cells": [
  {
   "cell_type": "code",
   "execution_count": 14,
   "id": "2603ecb6-69ce-4d0e-974a-653b05d5f03c",
   "metadata": {},
   "outputs": [],
   "source": [
    "import pandas as pd\n"
   ]
  },
  {
   "cell_type": "code",
   "execution_count": 16,
   "id": "8f01dece-8163-4af9-a31d-abbac0a328fd",
   "metadata": {},
   "outputs": [],
   "source": [
    "dataset = pd.read_csv(\"amazon alexa.tsv\" ,delimiter = \"\\t\") "
   ]
  },
  {
   "cell_type": "code",
   "execution_count": 17,
   "id": "e8046911-8887-4d8d-ac9e-69adaa5e74ec",
   "metadata": {},
   "outputs": [
    {
     "data": {
      "text/plain": [
       "(49, 5)"
      ]
     },
     "execution_count": 17,
     "metadata": {},
     "output_type": "execute_result"
    }
   ],
   "source": [
    "dataset.shape"
   ]
  },
  {
   "cell_type": "code",
   "execution_count": 23,
   "id": "9d6069a1-b2b9-4dee-962c-a859bd0358cf",
   "metadata": {},
   "outputs": [
    {
     "data": {
      "text/plain": [
       "Index(['rating', 'date', 'variation', 'verified_reviews', 'feedback'], dtype='object')"
      ]
     },
     "execution_count": 23,
     "metadata": {},
     "output_type": "execute_result"
    }
   ],
   "source": [
    "dataset.columns"
   ]
  },
  {
   "cell_type": "code",
   "execution_count": 24,
   "id": "8f171c7b-cb0e-4a0d-9122-b9f1a0bd0955",
   "metadata": {},
   "outputs": [
    {
     "data": {
      "text/plain": [
       "pandas.core.frame.DataFrame"
      ]
     },
     "execution_count": 24,
     "metadata": {},
     "output_type": "execute_result"
    }
   ],
   "source": [
    "type(dataset)"
   ]
  },
  {
   "cell_type": "raw",
   "id": "8af3b098-348a-458f-9cd8-9db00509858a",
   "metadata": {},
   "source": [
    "dataset.describe()"
   ]
  },
  {
   "cell_type": "code",
   "execution_count": 25,
   "id": "477c8649-13a8-44d2-bc06-8364493e9ed2",
   "metadata": {},
   "outputs": [
    {
     "data": {
      "text/html": [
       "<div>\n",
       "<style scoped>\n",
       "    .dataframe tbody tr th:only-of-type {\n",
       "        vertical-align: middle;\n",
       "    }\n",
       "\n",
       "    .dataframe tbody tr th {\n",
       "        vertical-align: top;\n",
       "    }\n",
       "\n",
       "    .dataframe thead th {\n",
       "        text-align: right;\n",
       "    }\n",
       "</style>\n",
       "<table border=\"1\" class=\"dataframe\">\n",
       "  <thead>\n",
       "    <tr style=\"text-align: right;\">\n",
       "      <th></th>\n",
       "      <th>rating</th>\n",
       "      <th>date</th>\n",
       "      <th>variation</th>\n",
       "      <th>verified_reviews</th>\n",
       "      <th>feedback</th>\n",
       "    </tr>\n",
       "  </thead>\n",
       "  <tbody>\n",
       "    <tr>\n",
       "      <th>0</th>\n",
       "      <td>5</td>\n",
       "      <td>31-Jul-18</td>\n",
       "      <td>Charcoal Fabric</td>\n",
       "      <td>Love my Echo!</td>\n",
       "      <td>1</td>\n",
       "    </tr>\n",
       "    <tr>\n",
       "      <th>1</th>\n",
       "      <td>5</td>\n",
       "      <td>31-Jul-18</td>\n",
       "      <td>Charcoal Fabric</td>\n",
       "      <td>Loved it!</td>\n",
       "      <td>1</td>\n",
       "    </tr>\n",
       "    <tr>\n",
       "      <th>2</th>\n",
       "      <td>4</td>\n",
       "      <td>31-Jul-18</td>\n",
       "      <td>Walnut Finish</td>\n",
       "      <td>Sometimes while playing a game, you can answer...</td>\n",
       "      <td>1</td>\n",
       "    </tr>\n",
       "    <tr>\n",
       "      <th>3</th>\n",
       "      <td>5</td>\n",
       "      <td>31-Jul-18</td>\n",
       "      <td>Charcoal Fabric</td>\n",
       "      <td>I have had a lot of fun with this thing. My 4 ...</td>\n",
       "      <td>1</td>\n",
       "    </tr>\n",
       "    <tr>\n",
       "      <th>4</th>\n",
       "      <td>5</td>\n",
       "      <td>31-Jul-18</td>\n",
       "      <td>Charcoal Fabric</td>\n",
       "      <td>Music</td>\n",
       "      <td>1</td>\n",
       "    </tr>\n",
       "    <tr>\n",
       "      <th>5</th>\n",
       "      <td>5</td>\n",
       "      <td>31-Jul-18</td>\n",
       "      <td>Heather Gray Fabric</td>\n",
       "      <td>I received the echo as a gift. I needed anothe...</td>\n",
       "      <td>1</td>\n",
       "    </tr>\n",
       "    <tr>\n",
       "      <th>6</th>\n",
       "      <td>3</td>\n",
       "      <td>31-Jul-18</td>\n",
       "      <td>Sandstone Fabric</td>\n",
       "      <td>Without having a cellphone, I cannot use many ...</td>\n",
       "      <td>1</td>\n",
       "    </tr>\n",
       "    <tr>\n",
       "      <th>7</th>\n",
       "      <td>5</td>\n",
       "      <td>31-Jul-18</td>\n",
       "      <td>Charcoal Fabric</td>\n",
       "      <td>I think this is the 5th one I've purchased. I'...</td>\n",
       "      <td>1</td>\n",
       "    </tr>\n",
       "    <tr>\n",
       "      <th>8</th>\n",
       "      <td>5</td>\n",
       "      <td>30-Jul-18</td>\n",
       "      <td>Heather Gray Fabric</td>\n",
       "      <td>looks great</td>\n",
       "      <td>1</td>\n",
       "    </tr>\n",
       "    <tr>\n",
       "      <th>9</th>\n",
       "      <td>5</td>\n",
       "      <td>30-Jul-18</td>\n",
       "      <td>Heather Gray Fabric</td>\n",
       "      <td>Love it! I’ve listened to songs I haven’t hear...</td>\n",
       "      <td>1</td>\n",
       "    </tr>\n",
       "    <tr>\n",
       "      <th>10</th>\n",
       "      <td>5</td>\n",
       "      <td>30-Jul-18</td>\n",
       "      <td>Charcoal Fabric</td>\n",
       "      <td>I sent it to my 85 year old Dad, and he talks ...</td>\n",
       "      <td>1</td>\n",
       "    </tr>\n",
       "    <tr>\n",
       "      <th>11</th>\n",
       "      <td>5</td>\n",
       "      <td>30-Jul-18</td>\n",
       "      <td>Charcoal Fabric</td>\n",
       "      <td>I love it! Learning knew things with it eveyda...</td>\n",
       "      <td>1</td>\n",
       "    </tr>\n",
       "    <tr>\n",
       "      <th>12</th>\n",
       "      <td>5</td>\n",
       "      <td>30-Jul-18</td>\n",
       "      <td>Oak Finish</td>\n",
       "      <td>I purchased this for my mother who is having k...</td>\n",
       "      <td>1</td>\n",
       "    </tr>\n",
       "    <tr>\n",
       "      <th>13</th>\n",
       "      <td>5</td>\n",
       "      <td>30-Jul-18</td>\n",
       "      <td>Charcoal Fabric</td>\n",
       "      <td>Love, Love, Love!!</td>\n",
       "      <td>1</td>\n",
       "    </tr>\n",
       "    <tr>\n",
       "      <th>14</th>\n",
       "      <td>5</td>\n",
       "      <td>30-Jul-18</td>\n",
       "      <td>Oak Finish</td>\n",
       "      <td>Just what I expected....</td>\n",
       "      <td>1</td>\n",
       "    </tr>\n",
       "    <tr>\n",
       "      <th>15</th>\n",
       "      <td>5</td>\n",
       "      <td>30-Jul-18</td>\n",
       "      <td>Heather Gray Fabric</td>\n",
       "      <td>I love it, wife hates it.</td>\n",
       "      <td>1</td>\n",
       "    </tr>\n",
       "    <tr>\n",
       "      <th>16</th>\n",
       "      <td>5</td>\n",
       "      <td>30-Jul-18</td>\n",
       "      <td>Heather Gray Fabric</td>\n",
       "      <td>Really happy with this purchase.  Great speake...</td>\n",
       "      <td>1</td>\n",
       "    </tr>\n",
       "    <tr>\n",
       "      <th>17</th>\n",
       "      <td>5</td>\n",
       "      <td>30-Jul-18</td>\n",
       "      <td>Heather Gray Fabric</td>\n",
       "      <td>We have only been using Alexa for a couple of ...</td>\n",
       "      <td>1</td>\n",
       "    </tr>\n",
       "    <tr>\n",
       "      <th>18</th>\n",
       "      <td>5</td>\n",
       "      <td>30-Jul-18</td>\n",
       "      <td>Charcoal Fabric</td>\n",
       "      <td>We love the size of the 2nd generation echo. S...</td>\n",
       "      <td>1</td>\n",
       "    </tr>\n",
       "    <tr>\n",
       "      <th>19</th>\n",
       "      <td>4</td>\n",
       "      <td>30-Jul-18</td>\n",
       "      <td>Sandstone Fabric</td>\n",
       "      <td>I liked the original Echo. This is the same bu...</td>\n",
       "      <td>1</td>\n",
       "    </tr>\n",
       "    <tr>\n",
       "      <th>20</th>\n",
       "      <td>5</td>\n",
       "      <td>30-Jul-18</td>\n",
       "      <td>Charcoal Fabric</td>\n",
       "      <td>Love the Echo and how good the music sounds pl...</td>\n",
       "      <td>1</td>\n",
       "    </tr>\n",
       "    <tr>\n",
       "      <th>21</th>\n",
       "      <td>5</td>\n",
       "      <td>30-Jul-18</td>\n",
       "      <td>Charcoal Fabric</td>\n",
       "      <td>We love Alexa! We use her to play music, play ...</td>\n",
       "      <td>1</td>\n",
       "    </tr>\n",
       "    <tr>\n",
       "      <th>22</th>\n",
       "      <td>4</td>\n",
       "      <td>30-Jul-18</td>\n",
       "      <td>Heather Gray Fabric</td>\n",
       "      <td>Have only had it set up for a few days. Still ...</td>\n",
       "      <td>1</td>\n",
       "    </tr>\n",
       "    <tr>\n",
       "      <th>23</th>\n",
       "      <td>5</td>\n",
       "      <td>30-Jul-18</td>\n",
       "      <td>Charcoal Fabric</td>\n",
       "      <td>I love it. It plays my sleep sounds immediatel...</td>\n",
       "      <td>1</td>\n",
       "    </tr>\n",
       "    <tr>\n",
       "      <th>24</th>\n",
       "      <td>3</td>\n",
       "      <td>30-Jul-18</td>\n",
       "      <td>Sandstone Fabric</td>\n",
       "      <td>I got a second unit for the bedroom, I was exp...</td>\n",
       "      <td>1</td>\n",
       "    </tr>\n",
       "    <tr>\n",
       "      <th>25</th>\n",
       "      <td>5</td>\n",
       "      <td>30-Jul-18</td>\n",
       "      <td>Sandstone Fabric</td>\n",
       "      <td>Amazing product</td>\n",
       "      <td>1</td>\n",
       "    </tr>\n",
       "    <tr>\n",
       "      <th>26</th>\n",
       "      <td>5</td>\n",
       "      <td>30-Jul-18</td>\n",
       "      <td>Charcoal Fabric</td>\n",
       "      <td>I love my Echo. It's easy to operate, loads of...</td>\n",
       "      <td>1</td>\n",
       "    </tr>\n",
       "    <tr>\n",
       "      <th>27</th>\n",
       "      <td>5</td>\n",
       "      <td>30-Jul-18</td>\n",
       "      <td>Charcoal Fabric</td>\n",
       "      <td>Sounds great!! Love them!</td>\n",
       "      <td>1</td>\n",
       "    </tr>\n",
       "    <tr>\n",
       "      <th>28</th>\n",
       "      <td>4</td>\n",
       "      <td>30-Jul-18</td>\n",
       "      <td>Charcoal Fabric</td>\n",
       "      <td>Fun item to play with and get used to using.  ...</td>\n",
       "      <td>1</td>\n",
       "    </tr>\n",
       "    <tr>\n",
       "      <th>29</th>\n",
       "      <td>5</td>\n",
       "      <td>30-Jul-18</td>\n",
       "      <td>Charcoal Fabric</td>\n",
       "      <td>Just like the other one</td>\n",
       "      <td>1</td>\n",
       "    </tr>\n",
       "    <tr>\n",
       "      <th>30</th>\n",
       "      <td>5</td>\n",
       "      <td>30-Jul-18</td>\n",
       "      <td>Sandstone Fabric</td>\n",
       "      <td>Still learning all the capabilities...but so f...</td>\n",
       "      <td>1</td>\n",
       "    </tr>\n",
       "    <tr>\n",
       "      <th>31</th>\n",
       "      <td>4</td>\n",
       "      <td>30-Jul-18</td>\n",
       "      <td>Charcoal Fabric</td>\n",
       "      <td>I like it</td>\n",
       "      <td>1</td>\n",
       "    </tr>\n",
       "    <tr>\n",
       "      <th>32</th>\n",
       "      <td>5</td>\n",
       "      <td>30-Jul-18</td>\n",
       "      <td>Sandstone Fabric</td>\n",
       "      <td>She works well. Needs a learning command  for ...</td>\n",
       "      <td>1</td>\n",
       "    </tr>\n",
       "    <tr>\n",
       "      <th>33</th>\n",
       "      <td>3</td>\n",
       "      <td>30-Jul-18</td>\n",
       "      <td>Heather Gray Fabric</td>\n",
       "      <td>The speakers sound pretty good for being so sm...</td>\n",
       "      <td>1</td>\n",
       "    </tr>\n",
       "    <tr>\n",
       "      <th>34</th>\n",
       "      <td>5</td>\n",
       "      <td>30-Jul-18</td>\n",
       "      <td>Charcoal Fabric</td>\n",
       "      <td>This device is awesome!</td>\n",
       "      <td>1</td>\n",
       "    </tr>\n",
       "    <tr>\n",
       "      <th>35</th>\n",
       "      <td>5</td>\n",
       "      <td>30-Jul-18</td>\n",
       "      <td>Charcoal Fabric</td>\n",
       "      <td>I bought this to compare the speaker quality t...</td>\n",
       "      <td>1</td>\n",
       "    </tr>\n",
       "    <tr>\n",
       "      <th>36</th>\n",
       "      <td>5</td>\n",
       "      <td>30-Jul-18</td>\n",
       "      <td>Sandstone Fabric</td>\n",
       "      <td>Love my Echo. Still learning all the things it...</td>\n",
       "      <td>1</td>\n",
       "    </tr>\n",
       "    <tr>\n",
       "      <th>37</th>\n",
       "      <td>4</td>\n",
       "      <td>30-Jul-18</td>\n",
       "      <td>Heather Gray Fabric</td>\n",
       "      <td>Speaker is better than 1st generation Echo</td>\n",
       "      <td>1</td>\n",
       "    </tr>\n",
       "    <tr>\n",
       "      <th>38</th>\n",
       "      <td>5</td>\n",
       "      <td>30-Jul-18</td>\n",
       "      <td>Charcoal Fabric</td>\n",
       "      <td>This thing is way cool!  You should get one.  ...</td>\n",
       "      <td>1</td>\n",
       "    </tr>\n",
       "    <tr>\n",
       "      <th>39</th>\n",
       "      <td>5</td>\n",
       "      <td>30-Jul-18</td>\n",
       "      <td>Heather Gray Fabric</td>\n",
       "      <td>This is my first digital assistant so I'm givi...</td>\n",
       "      <td>1</td>\n",
       "    </tr>\n",
       "    <tr>\n",
       "      <th>40</th>\n",
       "      <td>5</td>\n",
       "      <td>30-Jul-18</td>\n",
       "      <td>Charcoal Fabric</td>\n",
       "      <td>My husband likes being able to use it to liste...</td>\n",
       "      <td>1</td>\n",
       "    </tr>\n",
       "    <tr>\n",
       "      <th>41</th>\n",
       "      <td>5</td>\n",
       "      <td>30-Jul-18</td>\n",
       "      <td>Charcoal Fabric</td>\n",
       "      <td>My Android would not allow Alexa to connect. F...</td>\n",
       "      <td>1</td>\n",
       "    </tr>\n",
       "    <tr>\n",
       "      <th>42</th>\n",
       "      <td>4</td>\n",
       "      <td>30-Jul-18</td>\n",
       "      <td>Charcoal Fabric</td>\n",
       "      <td>So far so good</td>\n",
       "      <td>1</td>\n",
       "    </tr>\n",
       "    <tr>\n",
       "      <th>43</th>\n",
       "      <td>5</td>\n",
       "      <td>30-Jul-18</td>\n",
       "      <td>Charcoal Fabric</td>\n",
       "      <td>Tried to play certain broadway shows like Came...</td>\n",
       "      <td>1</td>\n",
       "    </tr>\n",
       "    <tr>\n",
       "      <th>44</th>\n",
       "      <td>5</td>\n",
       "      <td>30-Jul-18</td>\n",
       "      <td>Sandstone Fabric</td>\n",
       "      <td>Great</td>\n",
       "      <td>1</td>\n",
       "    </tr>\n",
       "    <tr>\n",
       "      <th>45</th>\n",
       "      <td>5</td>\n",
       "      <td>30-Jul-18</td>\n",
       "      <td>Walnut Finish</td>\n",
       "      <td>Very satisfied with the Echo. Alexa now contro...</td>\n",
       "      <td>1</td>\n",
       "    </tr>\n",
       "    <tr>\n",
       "      <th>46</th>\n",
       "      <td>2</td>\n",
       "      <td>30-Jul-18</td>\n",
       "      <td>Charcoal Fabric</td>\n",
       "      <td>It's like Siri, in fact, Siri answers more acc...</td>\n",
       "      <td>0</td>\n",
       "    </tr>\n",
       "    <tr>\n",
       "      <th>47</th>\n",
       "      <td>5</td>\n",
       "      <td>30-Jul-18</td>\n",
       "      <td>Charcoal Fabric</td>\n",
       "      <td>Love my Echo. Still learning how every thing w...</td>\n",
       "      <td>1</td>\n",
       "    </tr>\n",
       "    <tr>\n",
       "      <th>48</th>\n",
       "      <td>5</td>\n",
       "      <td>30-Jul-18</td>\n",
       "      <td>Heather Gray Fabric</td>\n",
       "      <td>I love you so much</td>\n",
       "      <td>1</td>\n",
       "    </tr>\n",
       "  </tbody>\n",
       "</table>\n",
       "</div>"
      ],
      "text/plain": [
       "    rating       date            variation  \\\n",
       "0        5  31-Jul-18      Charcoal Fabric   \n",
       "1        5  31-Jul-18      Charcoal Fabric   \n",
       "2        4  31-Jul-18        Walnut Finish   \n",
       "3        5  31-Jul-18      Charcoal Fabric   \n",
       "4        5  31-Jul-18      Charcoal Fabric   \n",
       "5        5  31-Jul-18  Heather Gray Fabric   \n",
       "6        3  31-Jul-18     Sandstone Fabric   \n",
       "7        5  31-Jul-18      Charcoal Fabric   \n",
       "8        5  30-Jul-18  Heather Gray Fabric   \n",
       "9        5  30-Jul-18  Heather Gray Fabric   \n",
       "10       5  30-Jul-18      Charcoal Fabric   \n",
       "11       5  30-Jul-18      Charcoal Fabric   \n",
       "12       5  30-Jul-18           Oak Finish   \n",
       "13       5  30-Jul-18      Charcoal Fabric   \n",
       "14       5  30-Jul-18           Oak Finish   \n",
       "15       5  30-Jul-18  Heather Gray Fabric   \n",
       "16       5  30-Jul-18  Heather Gray Fabric   \n",
       "17       5  30-Jul-18  Heather Gray Fabric   \n",
       "18       5  30-Jul-18      Charcoal Fabric   \n",
       "19       4  30-Jul-18     Sandstone Fabric   \n",
       "20       5  30-Jul-18      Charcoal Fabric   \n",
       "21       5  30-Jul-18      Charcoal Fabric   \n",
       "22       4  30-Jul-18  Heather Gray Fabric   \n",
       "23       5  30-Jul-18      Charcoal Fabric   \n",
       "24       3  30-Jul-18     Sandstone Fabric   \n",
       "25       5  30-Jul-18     Sandstone Fabric   \n",
       "26       5  30-Jul-18      Charcoal Fabric   \n",
       "27       5  30-Jul-18      Charcoal Fabric   \n",
       "28       4  30-Jul-18      Charcoal Fabric   \n",
       "29       5  30-Jul-18      Charcoal Fabric   \n",
       "30       5  30-Jul-18     Sandstone Fabric   \n",
       "31       4  30-Jul-18      Charcoal Fabric   \n",
       "32       5  30-Jul-18     Sandstone Fabric   \n",
       "33       3  30-Jul-18  Heather Gray Fabric   \n",
       "34       5  30-Jul-18      Charcoal Fabric   \n",
       "35       5  30-Jul-18      Charcoal Fabric   \n",
       "36       5  30-Jul-18     Sandstone Fabric   \n",
       "37       4  30-Jul-18  Heather Gray Fabric   \n",
       "38       5  30-Jul-18      Charcoal Fabric   \n",
       "39       5  30-Jul-18  Heather Gray Fabric   \n",
       "40       5  30-Jul-18      Charcoal Fabric   \n",
       "41       5  30-Jul-18      Charcoal Fabric   \n",
       "42       4  30-Jul-18      Charcoal Fabric   \n",
       "43       5  30-Jul-18      Charcoal Fabric   \n",
       "44       5  30-Jul-18     Sandstone Fabric   \n",
       "45       5  30-Jul-18        Walnut Finish   \n",
       "46       2  30-Jul-18      Charcoal Fabric   \n",
       "47       5  30-Jul-18      Charcoal Fabric   \n",
       "48       5  30-Jul-18  Heather Gray Fabric   \n",
       "\n",
       "                                     verified_reviews  feedback  \n",
       "0                                       Love my Echo!         1  \n",
       "1                                           Loved it!         1  \n",
       "2   Sometimes while playing a game, you can answer...         1  \n",
       "3   I have had a lot of fun with this thing. My 4 ...         1  \n",
       "4                                               Music         1  \n",
       "5   I received the echo as a gift. I needed anothe...         1  \n",
       "6   Without having a cellphone, I cannot use many ...         1  \n",
       "7   I think this is the 5th one I've purchased. I'...         1  \n",
       "8                                         looks great         1  \n",
       "9   Love it! I’ve listened to songs I haven’t hear...         1  \n",
       "10  I sent it to my 85 year old Dad, and he talks ...         1  \n",
       "11  I love it! Learning knew things with it eveyda...         1  \n",
       "12  I purchased this for my mother who is having k...         1  \n",
       "13                                 Love, Love, Love!!         1  \n",
       "14                           Just what I expected....         1  \n",
       "15                          I love it, wife hates it.         1  \n",
       "16  Really happy with this purchase.  Great speake...         1  \n",
       "17  We have only been using Alexa for a couple of ...         1  \n",
       "18  We love the size of the 2nd generation echo. S...         1  \n",
       "19  I liked the original Echo. This is the same bu...         1  \n",
       "20  Love the Echo and how good the music sounds pl...         1  \n",
       "21  We love Alexa! We use her to play music, play ...         1  \n",
       "22  Have only had it set up for a few days. Still ...         1  \n",
       "23  I love it. It plays my sleep sounds immediatel...         1  \n",
       "24  I got a second unit for the bedroom, I was exp...         1  \n",
       "25                                    Amazing product         1  \n",
       "26  I love my Echo. It's easy to operate, loads of...         1  \n",
       "27                          Sounds great!! Love them!         1  \n",
       "28  Fun item to play with and get used to using.  ...         1  \n",
       "29                            Just like the other one         1  \n",
       "30  Still learning all the capabilities...but so f...         1  \n",
       "31                                          I like it         1  \n",
       "32  She works well. Needs a learning command  for ...         1  \n",
       "33  The speakers sound pretty good for being so sm...         1  \n",
       "34                            This device is awesome!         1  \n",
       "35  I bought this to compare the speaker quality t...         1  \n",
       "36  Love my Echo. Still learning all the things it...         1  \n",
       "37         Speaker is better than 1st generation Echo         1  \n",
       "38  This thing is way cool!  You should get one.  ...         1  \n",
       "39  This is my first digital assistant so I'm givi...         1  \n",
       "40  My husband likes being able to use it to liste...         1  \n",
       "41  My Android would not allow Alexa to connect. F...         1  \n",
       "42                                     So far so good         1  \n",
       "43  Tried to play certain broadway shows like Came...         1  \n",
       "44                                              Great         1  \n",
       "45  Very satisfied with the Echo. Alexa now contro...         1  \n",
       "46  It's like Siri, in fact, Siri answers more acc...         0  \n",
       "47  Love my Echo. Still learning how every thing w...         1  \n",
       "48                                 I love you so much         1  "
      ]
     },
     "execution_count": 25,
     "metadata": {},
     "output_type": "execute_result"
    }
   ],
   "source": [
    "dataset"
   ]
  },
  {
   "cell_type": "code",
   "execution_count": 32,
   "id": "c6cdb6f5-6e60-452c-acda-2ff3ceb2de77",
   "metadata": {},
   "outputs": [
    {
     "data": {
      "text/html": [
       "<div>\n",
       "<style scoped>\n",
       "    .dataframe tbody tr th:only-of-type {\n",
       "        vertical-align: middle;\n",
       "    }\n",
       "\n",
       "    .dataframe tbody tr th {\n",
       "        vertical-align: top;\n",
       "    }\n",
       "\n",
       "    .dataframe thead th {\n",
       "        text-align: right;\n",
       "    }\n",
       "</style>\n",
       "<table border=\"1\" class=\"dataframe\">\n",
       "  <thead>\n",
       "    <tr style=\"text-align: right;\">\n",
       "      <th></th>\n",
       "      <th>date</th>\n",
       "      <th>variation</th>\n",
       "      <th>verified_reviews</th>\n",
       "    </tr>\n",
       "  </thead>\n",
       "  <tbody>\n",
       "    <tr>\n",
       "      <th>count</th>\n",
       "      <td>49</td>\n",
       "      <td>49</td>\n",
       "      <td>49</td>\n",
       "    </tr>\n",
       "    <tr>\n",
       "      <th>unique</th>\n",
       "      <td>2</td>\n",
       "      <td>5</td>\n",
       "      <td>49</td>\n",
       "    </tr>\n",
       "    <tr>\n",
       "      <th>top</th>\n",
       "      <td>30-Jul-18</td>\n",
       "      <td>Charcoal Fabric</td>\n",
       "      <td>Love my Echo!</td>\n",
       "    </tr>\n",
       "    <tr>\n",
       "      <th>freq</th>\n",
       "      <td>41</td>\n",
       "      <td>26</td>\n",
       "      <td>1</td>\n",
       "    </tr>\n",
       "  </tbody>\n",
       "</table>\n",
       "</div>"
      ],
      "text/plain": [
       "             date        variation verified_reviews\n",
       "count          49               49               49\n",
       "unique          2                5               49\n",
       "top     30-Jul-18  Charcoal Fabric    Love my Echo!\n",
       "freq           41               26                1"
      ]
     },
     "execution_count": 32,
     "metadata": {},
     "output_type": "execute_result"
    }
   ],
   "source": [
    "dataset.describe(include = \"object\")\n"
   ]
  },
  {
   "cell_type": "code",
   "execution_count": 35,
   "id": "bcd459d3-da5f-4b27-9ea4-0b2f84d47f42",
   "metadata": {},
   "outputs": [
    {
     "data": {
      "text/plain": [
       "variation\n",
       "Charcoal Fabric        26\n",
       "Heather Gray Fabric    11\n",
       "Sandstone Fabric        8\n",
       "Walnut Finish           2\n",
       "Oak Finish              2\n",
       "Name: count, dtype: int64"
      ]
     },
     "execution_count": 35,
     "metadata": {},
     "output_type": "execute_result"
    }
   ],
   "source": [
    "dataset[\"variation\"].value_counts()"
   ]
  },
  {
   "cell_type": "code",
   "execution_count": 43,
   "id": "9bfe5dc8-b09d-483a-b9ba-4475c0268e68",
   "metadata": {},
   "outputs": [],
   "source": [
    "x = dataset[\"verified_reviews\"].apply(len)"
   ]
  },
  {
   "cell_type": "code",
   "execution_count": 97,
   "id": "24d2af8f-33c9-432d-96c4-edc2af2fa5db",
   "metadata": {},
   "outputs": [],
   "source": [
    "from textblob import TextBlob\n",
    "   "
   ]
  },
  {
   "cell_type": "code",
   "execution_count": 98,
   "id": "2c7fd483-fd08-4271-abd8-1aa3e95ddc53",
   "metadata": {},
   "outputs": [],
   "source": [
    "blob = TextBlob(\"love\")"
   ]
  },
  {
   "cell_type": "code",
   "execution_count": 99,
   "id": "2508f2e0-b44c-419a-99eb-87609b47207c",
   "metadata": {},
   "outputs": [
    {
     "data": {
      "text/plain": [
       "Sentiment(polarity=0.5, subjectivity=0.6)"
      ]
     },
     "execution_count": 99,
     "metadata": {},
     "output_type": "execute_result"
    }
   ],
   "source": [
    "blob.sentiment"
   ]
  },
  {
   "cell_type": "code",
   "execution_count": 122,
   "id": "58968f37-9806-414c-b951-ace0491c88db",
   "metadata": {},
   "outputs": [
    {
     "name": "stdout",
     "output_type": "stream",
     "text": [
      "Sentiment(polarity=0.5, subjectivity=0.6)\n"
     ]
    }
   ],
   "source": [
    "print(blob.sentiment) "
   ]
  },
  {
   "cell_type": "code",
   "execution_count": 123,
   "id": "5b8813b0-618c-4a14-8c27-5585babc082c",
   "metadata": {},
   "outputs": [],
   "source": [
    "from textblob import TextBlob"
   ]
  },
  {
   "cell_type": "code",
   "execution_count": 135,
   "id": "160b0e1f-e789-4610-b902-fa2418c8cf03",
   "metadata": {},
   "outputs": [],
   "source": [
    "\n",
    "def get_sentiment_subjective(text):\n",
    "    my_textblob = TextBlob(text)\n",
    "    my_subjectivity = my_textblob.sentiment.subjectivity\n",
    "    return my_subjectivity"
   ]
  },
  {
   "cell_type": "code",
   "execution_count": 136,
   "id": "02e2f962-6529-451d-945e-9bdb6a1e8e07",
   "metadata": {},
   "outputs": [],
   "source": [
    "dataset[\"subjectivi\"] = dataset[\"verified_reviews\"].apply(get_sentiment_subjective)"
   ]
  },
  {
   "cell_type": "code",
   "execution_count": 137,
   "id": "d05ed044-96f8-4800-af3b-9ec3ee7f7681",
   "metadata": {},
   "outputs": [
    {
     "data": {
      "text/plain": [
       "Index(['rating', 'date', 'variation', 'verified_reviews', 'feedback',\n",
       "       'subjectivi'],\n",
       "      dtype='object')"
      ]
     },
     "execution_count": 137,
     "metadata": {},
     "output_type": "execute_result"
    }
   ],
   "source": [
    "dataset.columns"
   ]
  },
  {
   "cell_type": "code",
   "execution_count": 138,
   "id": "6f7531c0-a77c-471c-aa68-126c78de112c",
   "metadata": {},
   "outputs": [
    {
     "name": "stdout",
     "output_type": "stream",
     "text": [
      "<class 'pandas.core.frame.DataFrame'>\n",
      "RangeIndex: 49 entries, 0 to 48\n",
      "Data columns (total 6 columns):\n",
      " #   Column            Non-Null Count  Dtype  \n",
      "---  ------            --------------  -----  \n",
      " 0   rating            49 non-null     int64  \n",
      " 1   date              49 non-null     object \n",
      " 2   variation         49 non-null     object \n",
      " 3   verified_reviews  49 non-null     object \n",
      " 4   feedback          49 non-null     int64  \n",
      " 5   subjectivi        49 non-null     float64\n",
      "dtypes: float64(1), int64(2), object(3)\n",
      "memory usage: 2.4+ KB\n"
     ]
    }
   ],
   "source": [
    "dataset.info()"
   ]
  },
  {
   "cell_type": "code",
   "execution_count": 143,
   "id": "ee5e2c02-46de-4d4c-bd6e-15d443ed338d",
   "metadata": {},
   "outputs": [
    {
     "data": {
      "text/plain": [
       "count    49.000000\n",
       "mean      0.552641\n",
       "std       0.222804\n",
       "min       0.000000\n",
       "25%       0.416775\n",
       "50%       0.571429\n",
       "75%       0.675000\n",
       "max       1.000000\n",
       "Name: subjectivi, dtype: float64"
      ]
     },
     "execution_count": 143,
     "metadata": {},
     "output_type": "execute_result"
    }
   ],
   "source": [
    "dataset[('subjectivi')].describe()"
   ]
  },
  {
   "cell_type": "code",
   "execution_count": 155,
   "id": "f07ea8bd-0770-42ab-a747-758ed998e12f",
   "metadata": {},
   "outputs": [],
   "source": [
    "from textblob import TextBlob\n",
    "\n",
    "def get_sentiment_polarity(text):\n",
    "    my_textblob = TextBlob(text)\n",
    "    my_polarity = my_textblob.sentiment.polarity\n",
    "    return my_polarity"
   ]
  },
  {
   "cell_type": "code",
   "execution_count": 157,
   "id": "e494d4d3-9c3b-4fe4-a809-ccbf7bd7fd8f",
   "metadata": {},
   "outputs": [],
   "source": [
    "dataset[\"polarity\"] = dataset[\"verified_reviews\"].apply(get_sentiment_polarity)"
   ]
  },
  {
   "cell_type": "code",
   "execution_count": 158,
   "id": "512f3d1c-fd3d-4f0e-a614-0a909d8cf028",
   "metadata": {},
   "outputs": [
    {
     "data": {
      "text/plain": [
       "Index(['rating', 'date', 'variation', 'verified_reviews', 'feedback',\n",
       "       'subjectivi', 'polarity'],\n",
       "      dtype='object')"
      ]
     },
     "execution_count": 158,
     "metadata": {},
     "output_type": "execute_result"
    }
   ],
   "source": [
    "dataset.columns"
   ]
  },
  {
   "cell_type": "code",
   "execution_count": 159,
   "id": "5edb55b9-aacb-4cc0-86b5-654508db22a4",
   "metadata": {},
   "outputs": [
    {
     "name": "stdout",
     "output_type": "stream",
     "text": [
      "<class 'pandas.core.frame.DataFrame'>\n",
      "RangeIndex: 49 entries, 0 to 48\n",
      "Data columns (total 7 columns):\n",
      " #   Column            Non-Null Count  Dtype  \n",
      "---  ------            --------------  -----  \n",
      " 0   rating            49 non-null     int64  \n",
      " 1   date              49 non-null     object \n",
      " 2   variation         49 non-null     object \n",
      " 3   verified_reviews  49 non-null     object \n",
      " 4   feedback          49 non-null     int64  \n",
      " 5   subjectivi        49 non-null     float64\n",
      " 6   polarity          49 non-null     float64\n",
      "dtypes: float64(2), int64(2), object(3)\n",
      "memory usage: 2.8+ KB\n"
     ]
    }
   ],
   "source": [
    "dataset.info()"
   ]
  },
  {
   "cell_type": "code",
   "execution_count": 160,
   "id": "33d5b4b1-4e79-41d4-beb2-4535f759e284",
   "metadata": {},
   "outputs": [
    {
     "data": {
      "text/plain": [
       "count    49.000000\n",
       "mean      0.366646\n",
       "std       0.279309\n",
       "min      -0.125000\n",
       "25%       0.200000\n",
       "50%       0.350000\n",
       "75%       0.500000\n",
       "max       1.000000\n",
       "Name: polarity, dtype: float64"
      ]
     },
     "execution_count": 160,
     "metadata": {},
     "output_type": "execute_result"
    }
   ],
   "source": [
    "dataset[('polarity')].describe()"
   ]
  },
  {
   "cell_type": "code",
   "execution_count": 168,
   "id": "4c8bd066-483f-424f-95fb-ee205e9f39ea",
   "metadata": {},
   "outputs": [],
   "source": [
    "from textblob import TextBlob\n",
    "\n",
    "def get_sentiment_length(text):\n",
    "    my_textblob = TextBlob(text)\n",
    "    my_length = len(my_textblob.words)  # or len(text.split())\n",
    "    return my_length"
   ]
  },
  {
   "cell_type": "code",
   "execution_count": null,
   "id": "bfc16fc0-4aa2-4153-af0a-4a04490937d5",
   "metadata": {},
   "outputs": [],
   "source": []
  },
  {
   "cell_type": "code",
   "execution_count": null,
   "id": "b15e41b9-86be-4897-92e3-058675008a12",
   "metadata": {},
   "outputs": [],
   "source": []
  }
 ],
 "metadata": {
  "kernelspec": {
   "display_name": "Python 3 (ipykernel)",
   "language": "python",
   "name": "python3"
  },
  "language_info": {
   "codemirror_mode": {
    "name": "ipython",
    "version": 3
   },
   "file_extension": ".py",
   "mimetype": "text/x-python",
   "name": "python",
   "nbconvert_exporter": "python",
   "pygments_lexer": "ipython3",
   "version": "3.13.5"
  }
 },
 "nbformat": 4,
 "nbformat_minor": 5
}
